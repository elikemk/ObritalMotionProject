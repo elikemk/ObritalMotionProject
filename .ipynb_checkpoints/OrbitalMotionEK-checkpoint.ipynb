{
 "cells": [
  {
   "cell_type": "code",
   "execution_count": 12,
   "id": "87b09b2f-8dd1-461b-8eeb-243a2821277a",
   "metadata": {},
   "outputs": [],
   "source": [
    "import numpy as np\n",
    "import matplotlib.pyplot as plt\n",
    "from matplotlib.animation import FuncAnimation"
   ]
  },
  {
   "cell_type": "code",
   "execution_count": 18,
   "id": "97544064-a4af-42cf-bb79-ccf63db60301",
   "metadata": {
    "scrolled": true
   },
   "outputs": [],
   "source": [
    "# Constants\n",
    "G = 6.67430e-11  # Gravitational constant (m^3 kg^-1 s^-2)\n",
    "M_sun = 1.989e30  # Mass of the Sun (kg)\n",
    "AU = 1.496e11  # 1 Astronomical Unit in meters\n",
    "dt = 60 * 60 * 24  # Time step in seconds (1 day)                  "
   ]
  },
  {
   "cell_type": "code",
   "execution_count": 20,
   "id": "aa0ad9e4-d9b5-4f03-9e2d-7311bff0c1ca",
   "metadata": {},
   "outputs": [],
   "source": [
    "# Planet initial conditions (Earth-like orbit)\n",
    "mass_planet = 5.972e24  # Planet mass (kg)\n",
    "distance = AU  # Distance from Sun (meters)\n",
    "velocity = 29780  # Initial tangential velocity for Earth (m/s)"
   ]
  },
  {
   "cell_type": "code",
   "execution_count": 22,
   "id": "43a8b97c-7724-4bb9-9307-b097014db9cf",
   "metadata": {},
   "outputs": [],
   "source": [
    "# Initialize position and velocity vectors\n",
    "position = np.array([distance, 0])  # Starting at 1 AU on x-axis\n",
    "velocity = np.array([0, velocity])  # Initial velocity in y direction\n"
   ]
  },
  {
   "cell_type": "code",
   "execution_count": 24,
   "id": "3ecdacb4-8652-4bac-804b-2dff01065b4d",
   "metadata": {},
   "outputs": [],
   "source": [
    "# Lists to store position data for plotting\n",
    "x_positions = []\n",
    "y_positions = []"
   ]
  },
  {
   "cell_type": "code",
   "execution_count": 26,
   "id": "3e01a660-00ea-43f3-8cf7-a36f24468208",
   "metadata": {},
   "outputs": [],
   "source": [
    "# Function to calculate gravitational force\n",
    "def gravitational_force(position):\n",
    "    r = np.linalg.norm(position)  # Distance to Sun\n",
    "    force_magnitude = G * M_sun * mass_planet / r**2\n",
    "    force_direction = -position / r\n",
    "    return force_magnitude * force_direction"
   ]
  },
  {
   "cell_type": "code",
   "execution_count": 45,
   "id": "f385a30a-0db5-4e3f-a2fe-649af750c874",
   "metadata": {},
   "outputs": [
    {
     "ename": "ValueError",
     "evalue": "setting an array element with a sequence. The requested array has an inhomogeneous shape after 1 dimensions. The detected shape was (2,) + inhomogeneous part.",
     "output_type": "error",
     "traceback": [
      "\u001b[0;31m---------------------------------------------------------------------------\u001b[0m",
      "\u001b[0;31mValueError\u001b[0m                                Traceback (most recent call last)",
      "Cell \u001b[0;32mIn[45], line 8\u001b[0m\n\u001b[1;32m      5\u001b[0m acceleration \u001b[38;5;241m=\u001b[39m force \u001b[38;5;241m/\u001b[39m mass_planet\n\u001b[1;32m      7\u001b[0m \u001b[38;5;66;03m# Update velocity and position using simple Euler method\u001b[39;00m\n\u001b[0;32m----> 8\u001b[0m velocity \u001b[38;5;241m=\u001b[39m np\u001b[38;5;241m.\u001b[39marray([\u001b[38;5;241m0\u001b[39m, velocity], dtype\u001b[38;5;241m=\u001b[39m\u001b[38;5;28mfloat\u001b[39m)\n\u001b[1;32m      9\u001b[0m position \u001b[38;5;241m=\u001b[39m np\u001b[38;5;241m.\u001b[39marray([distance, \u001b[38;5;241m0\u001b[39m], dtype\u001b[38;5;241m=\u001b[39m\u001b[38;5;28mfloat\u001b[39m)\n\u001b[1;32m     11\u001b[0m \u001b[38;5;66;03m# Store positions for plotting\u001b[39;00m\n",
      "\u001b[0;31mValueError\u001b[0m: setting an array element with a sequence. The requested array has an inhomogeneous shape after 1 dimensions. The detected shape was (2,) + inhomogeneous part."
     ]
    }
   ],
   "source": [
    "# Simulate orbit\n",
    "for _ in range(365):  # Simulate for one year\n",
    "    # Calculate force and acceleration\n",
    "    force = gravitational_force(position)\n",
    "    acceleration = force / mass_planet\n",
    "    \n",
    "    # Update velocity and position using simple Euler method\n",
    "    velocity = np.array([0, velocity], dtype=float)\n",
    "    position = np.array([distance, 0], dtype=float)\n",
    "    \n",
    "    # Store positions for plotting\n",
    "    x_positions.append(position[0])\n",
    "    y_positions.append(position[1])"
   ]
  },
  {
   "cell_type": "code",
   "execution_count": 41,
   "id": "040ae6f2-6664-4334-a29c-871337462f5c",
   "metadata": {},
   "outputs": [
    {
     "data": {
      "image/png": "[encoded data removed]",
      "text/plain": [
       "<Figure size 640x480 with 1 Axes>"
      ]
     },
     "metadata": {},
     "output_type": "display_data"
    }
   ],
   "source": [
    "# Plot the orbit\n",
    "fig, ax = plt.subplots()\n",
    "ax.plot(x_positions, y_positions, label=\"Planet Orbit\")\n",
    "ax.plot(0, 0, 'yo', label=\"Sun\")  # Sun at the origin\n",
    "ax.set_aspect('equal')\n",
    "ax.set_xlabel(\"x position (m)\")\n",
    "ax.set_ylabel(\"y position (m)\")\n",
    "ax.set_title(\"Orbit of a Planet around the Sun\")\n",
    "plt.legend()\n",
    "plt.show()"
   ]
  },
  {
   "cell_type": "code",
   "execution_count": null,
   "id": "10e80828-9340-42fa-a9c8-8ebe290e3d0d",
   "metadata": {},
   "outputs": [],
   "source": []
  }
 ],
 "metadata": {
  "kernelspec": {
   "display_name": "Python 3 (ipykernel)",
   "language": "python",
   "name": "python3"
  },
  "language_info": {
   "codemirror_mode": {
    "name": "ipython",
    "version": 3
   },
   "file_extension": ".py",
   "mimetype": "text/x-python",
   "name": "python",
   "nbconvert_exporter": "python",
   "pygments_lexer": "ipython3",
   "version": "3.12.7"
  }
 },
 "nbformat": 4,
 "nbformat_minor": 5
}
